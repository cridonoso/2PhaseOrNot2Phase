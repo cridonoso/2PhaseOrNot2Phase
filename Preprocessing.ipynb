{
 "cells": [
  {
   "cell_type": "markdown",
   "metadata": {},
   "source": [
    "# Data Review and Preprocessing"
   ]
  },
  {
   "cell_type": "code",
   "execution_count": 1,
   "metadata": {},
   "outputs": [],
   "source": [
    "import numpy as np\n",
    "import matplotlib.pyplot as plt\n",
    "\n",
    "import ztf # shared scritp where the util functions are stored\n",
    "\n",
    "labeltocode = ztf.class_code\n",
    "codetolabel = dict()\n",
    "for k, v in labeltocode.items():\n",
    "    if v == 14:\n",
    "        codetolabel[v] = 'SNE'\n",
    "    else:\n",
    "        codetolabel[v] = k"
   ]
  },
  {
   "cell_type": "markdown",
   "metadata": {},
   "source": [
    "### Getting lightcurves "
   ]
  },
  {
   "cell_type": "code",
   "execution_count": 2,
   "metadata": {},
   "outputs": [],
   "source": [
    "path_meta = './datasets/raw_data/ztf/dfcrossmatches_prioritized_v6.0.csv'\n",
    "path_dete = './datasets/raw_data/ztf/detections.csv'"
   ]
  },
  {
   "cell_type": "code",
   "execution_count": 3,
   "metadata": {},
   "outputs": [
    {
     "name": "stdout",
     "output_type": "stream",
     "text": [
      "CPU times: user 3min 45s, sys: 20.7 s, total: 4min 6s\n",
      "Wall time: 4min 6s\n"
     ]
    }
   ],
   "source": [
    "%%time\n",
    "use_chunks = False # ~15min and 7.52 GB RAM using chunks - ~4min and 32.6 GB RAM else\n",
    "lightcurves, labels, oids = ztf.get_light_curves(path_meta, path_dete, chunks=False)"
   ]
  },
  {
   "cell_type": "code",
   "execution_count": 4,
   "metadata": {},
   "outputs": [],
   "source": [
    "uniques, counts = np.unique(labels, return_counts=True)"
   ]
  },
  {
   "cell_type": "code",
   "execution_count": 5,
   "metadata": {},
   "outputs": [
    {
     "data": {
      "image/png": "[encoded data removed]",
      "text/plain": [
       "<Figure size 1080x360 with 1 Axes>"
      ]
     },
     "metadata": {
      "needs_background": "light"
     },
     "output_type": "display_data"
    }
   ],
   "source": [
    "LABELS = [codetolabel[u] for u in uniques]\n",
    "plt.figure(figsize=(15,5))\n",
    "plt.bar(uniques, counts, align='center', color='darkblue')\n",
    "plt.xticks(uniques, LABELS, rotation=90, fontsize=12)\n",
    "plt.yticks(fontsize=12)\n",
    "plt.title('Number of Samples per Class', fontsize=15)\n",
    "plt.grid(axis='y')\n",
    "plt.show()"
   ]
  },
  {
   "cell_type": "markdown",
   "metadata": {},
   "source": [
    "### Train, validation and test split"
   ]
  },
  {
   "cell_type": "code",
   "execution_count": 7,
   "metadata": {},
   "outputs": [],
   "source": [
    "subsets = ztf.train_val_test_split(lightcurves, labels)"
   ]
  },
  {
   "cell_type": "code",
   "execution_count": 10,
   "metadata": {},
   "outputs": [
    {
     "name": "stdout",
     "output_type": "stream",
     "text": [
      "TRAIN: (59019,) - (59019,)\n",
      "VAL: (29506,) - (29506,)\n",
      "TEST:(29524,) - (29524,)\n"
     ]
    }
   ],
   "source": [
    "print('TRAIN: {} - {}\\nVAL: {} - {}\\nTEST:{} - {}'.format(\n",
    "                                         subsets['train']['x'].shape, subsets['train']['y'].shape,\n",
    "                                         subsets['validation']['x'].shape, subsets['validation']['y'].shape,\n",
    "                                         subsets['test']['x'].shape, subsets['test']['y'].shape))"
   ]
  },
  {
   "cell_type": "markdown",
   "metadata": {},
   "source": [
    "### Padding Light Curves"
   ]
  },
  {
   "cell_type": "code",
   "execution_count": 11,
   "metadata": {},
   "outputs": [],
   "source": [
    "X_train, y_train, m_train = ztf.pad_lightcurves(subsets['train']['x'], subsets['train']['y'], \n",
    "                                                maxobs=200)\n",
    "X_valid, y_valid, m_valid = ztf.pad_lightcurves(subsets['validation']['x'], subsets['validation']['y'], \n",
    "                                                maxobs=200)"
   ]
  },
  {
   "cell_type": "code",
   "execution_count": 14,
   "metadata": {},
   "outputs": [],
   "source": [
    "maxobs_testing = np.max([x.shape[0] for x in subsets['test']['x']])\n",
    "X_test, y_test, m_test = ztf.pad_lightcurves(subsets['test']['x'], subsets['test']['y'], \n",
    "                                             maxobs=maxobs_testing)"
   ]
  },
  {
   "cell_type": "code",
   "execution_count": 21,
   "metadata": {},
   "outputs": [
    {
     "name": "stdout",
     "output_type": "stream",
     "text": [
      "TRAIN: (62969, 200, 4)  - (62969,)\n",
      "VALID: (31471, 200, 4)  - (31471,)\n",
      "TEST:  (29525, 1064, 4) - (29525,)\n"
     ]
    }
   ],
   "source": [
    "print('TRAIN: {}  - {}\\nVALID: {}  - {}\\nTEST:  {} - {}'.format(X_train.shape, y_train.shape,\n",
    "                                                          X_valid.shape, y_valid.shape,\n",
    "                                                          X_test.shape, y_test.shape))"
   ]
  },
  {
   "cell_type": "markdown",
   "metadata": {},
   "source": [
    "### Writting Records"
   ]
  },
  {
   "cell_type": "code",
   "execution_count": null,
   "metadata": {},
   "outputs": [],
   "source": []
  }
 ],
 "metadata": {
  "kernelspec": {
   "display_name": "Environment (conda_tf2)",
   "language": "python",
   "name": "conda_tf2"
  },
  "language_info": {
   "codemirror_mode": {
    "name": "ipython",
    "version": 3
   },
   "file_extension": ".py",
   "mimetype": "text/x-python",
   "name": "python",
   "nbconvert_exporter": "python",
   "pygments_lexer": "ipython3",
   "version": "3.7.7"
  }
 },
 "nbformat": 4,
 "nbformat_minor": 4
}
