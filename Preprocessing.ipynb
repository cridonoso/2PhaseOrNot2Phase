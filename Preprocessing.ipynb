{
 "cells": [
  {
   "cell_type": "markdown",
   "metadata": {},
   "source": [
    "# Data Review and Preprocessing"
   ]
  },
  {
   "cell_type": "code",
   "execution_count": 9,
   "metadata": {},
   "outputs": [],
   "source": [
    "import tensorflow as tf\n",
    "import data\n",
    "import numpy as np\n",
    "import pandas as pd\n",
    "import os\n",
    "import matplotlib.pyplot as plt\n",
    "import seaborn as sns"
   ]
  },
  {
   "cell_type": "code",
   "execution_count": 17,
   "metadata": {},
   "outputs": [],
   "source": [
    "from collections import Counter\n",
    "from sklearn.preprocessing import StandardScaler\n",
    "from sklearn.gaussian_process import GaussianProcessRegressor\n",
    "from sklearn.gaussian_process.kernels import RBF, ConstantKernel as C"
   ]
  },
  {
   "cell_type": "code",
   "execution_count": 18,
   "metadata": {},
   "outputs": [],
   "source": [
    "from sklearn.model_selection import train_test_split\n",
    "from sklearn.model_selection import StratifiedShuffleSplit"
   ]
  },
  {
   "cell_type": "code",
   "execution_count": 19,
   "metadata": {},
   "outputs": [],
   "source": [
    "from sklearn.metrics import balanced_accuracy_score, accuracy_score, f1_score\n",
    "from sklearn.metrics import confusion_matrix"
   ]
  },
  {
   "cell_type": "code",
   "execution_count": 12,
   "metadata": {},
   "outputs": [],
   "source": [
    "df_crossmatch = pd.read_csv('datasets/raw_data/ztf/dfcrossmatches_prioritized_v6.0.csv')"
   ]
  },
  {
   "cell_type": "code",
   "execution_count": 14,
   "metadata": {},
   "outputs": [
    {
     "name": "stdout",
     "output_type": "stream",
     "text": [
      "1\n",
      "2\n",
      "3\n",
      "4\n",
      "5\n"
     ]
    }
   ],
   "source": [
    "result = []\n",
    "count = 0\n",
    "for chunk in pd.read_csv('datasets/raw_data/ztf/detections.csv', chunksize=1000000):\n",
    "    chunk_new = chunk[['oid', 'mjd', 'fid', 'magpsf_corr', 'sigmapsf_corr']]\n",
    "    temp = pd.merge(df_crossmatch[['oid', 'classALeRCE']], chunk_new, how='right', on=['oid']).dropna(subset=['classALeRCE', 'mjd'])\n",
    "    result.append(list(temp.groupby('oid')))\n",
    "    count +=1\n",
    "    print(count)\n",
    "    if count == 5:\n",
    "      break"
   ]
  },
  {
   "cell_type": "code",
   "execution_count": 15,
   "metadata": {},
   "outputs": [],
   "source": [
    "flat_list = [item for sublist in result for item in sublist]"
   ]
  },
  {
   "cell_type": "code",
   "execution_count": 16,
   "metadata": {},
   "outputs": [
    {
     "name": "stdout",
     "output_type": "stream",
     "text": [
      "dict_keys(['LPV', 'RRL', 'DSCT', 'Ceph', 'EB/EW', 'YSO', 'EA', 'CV/Nova', 'AGN', 'Blazar', 'RSCVn', 'QSO', 'Periodic-Other', 'SNII', 'SNIbc', 'SNIa', 'NLQSO', 'SLSN', 'SNIIn', 'SNIIb', 'TDE', 'NLAGN', 'ZZ'])\n",
      "dict_values([81456, 67554, 1149, 940, 36557, 1335, 5430, 1226, 3954, 1444, 778, 12948, 359, 191, 31, 480, 66, 28, 32, 3, 3, 5, 1])\n"
     ]
    }
   ],
   "source": [
    "labels = []\n",
    "for l in flat_list:\n",
    "  labels.append(l[1]['classALeRCE'].drop_duplicates().to_numpy()[0])\n",
    "classes = np.unique(labels)\n",
    "\n",
    "print(Counter(labels).keys())\n",
    "print(Counter(labels).values())"
   ]
  },
  {
   "cell_type": "code",
   "execution_count": 39,
   "metadata": {},
   "outputs": [],
   "source": [
    "max = 0\n",
    "for item in flat_list:\n",
    "    if len(item[1]['fid'] == 1) > max or len(item[1]['fid'] == 2) > max:\n",
    "        max = np.max([len(item[1]['fid'] == 1), len(item[1]['fid'] == 2)])"
   ]
  },
  {
   "cell_type": "code",
   "execution_count": 41,
   "metadata": {},
   "outputs": [
    {
     "data": {
      "text/plain": [
       "515"
      ]
     },
     "execution_count": 41,
     "metadata": {},
     "output_type": "execute_result"
    }
   ],
   "source": [
    "max"
   ]
  },
  {
   "cell_type": "code",
   "execution_count": null,
   "metadata": {},
   "outputs": [],
   "source": [
    "lc_list_green = []\n",
    "labels_green = []\n",
    "id_green = []\n",
    "\n",
    "lc_list_red = []\n",
    "labels_red = []\n",
    "id_red = []\n",
    "\n",
    "max_zeros = np.zeros([max,3])\n",
    "for i, item in enumerate(flat_list):\n",
    "  max_zeros = np.zeros([max,3])\n",
    "  item_red = item[1].loc[item[1]['fid'] == 1,:]\n",
    "  lc = item[['mjd','magpsf_corr','sigmapsf_corr']].to_numpy()\n",
    "  max_zeros[:lc.shape[0],:] = lc\n",
    "  lc_list_green.append(max_zeros)\n",
    "  print(i)\n",
    "  if item.empty:\n",
    "    temp = 'NA'\n",
    "  else:\n",
    "    temp = item['classALeRCE'].reset_index().loc[0].to_numpy()[1]\n",
    "    temp_id = item['oid'].reset_index().loc[0].to_numpy()[1]\n",
    "  labels_green.append(temp) \n",
    "  print(i)\n",
    "  id_green.append(temp_id)  "
   ]
  },
  {
   "cell_type": "raw",
   "metadata": {},
   "source": []
  }
 ],
 "metadata": {
  "kernelspec": {
   "display_name": "Environment (conda_tf2)",
   "language": "python",
   "name": "conda_tf2"
  },
  "language_info": {
   "codemirror_mode": {
    "name": "ipython",
    "version": 3
   },
   "file_extension": ".py",
   "mimetype": "text/x-python",
   "name": "python",
   "nbconvert_exporter": "python",
   "pygments_lexer": "ipython3",
   "version": "3.7.7"
  }
 },
 "nbformat": 4,
 "nbformat_minor": 4
}
