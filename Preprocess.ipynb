{
 "cells": [
  {
   "cell_type": "code",
   "execution_count": 1,
   "id": "7f1211a3",
   "metadata": {},
   "outputs": [],
   "source": [
    "import numpy as np\n",
    "import pandas as pd\n",
    "import matplotlib.pyplot as plt\n",
    "import os\n",
    "os.environ['TF_CPP_MIN_LOG_LEVEL'] = '3' \n",
    "\n",
    "%load_ext autoreload\n",
    "%autoreload 2"
   ]
  },
  {
   "cell_type": "markdown",
   "id": "81cd25fa",
   "metadata": {},
   "source": [
    "### Reading lighcurves"
   ]
  },
  {
   "cell_type": "code",
   "execution_count": 2,
   "id": "6b669065",
   "metadata": {},
   "outputs": [],
   "source": [
    "path_meta = './data/raw_data/macho/MACHO_dataset.dat'\n",
    "lcs_src   = './data/raw_data/macho/LCs'"
   ]
  },
  {
   "cell_type": "code",
   "execution_count": 3,
   "id": "6e3324ca",
   "metadata": {},
   "outputs": [],
   "source": [
    "meta_df = pd.read_csv(path_meta)\n",
    "class_names = list(meta_df['Class'].unique())\n",
    "meta_df = meta_df.rename(columns={'Unnamed: 0': 'ids'})"
   ]
  },
  {
   "cell_type": "code",
   "execution_count": 15,
   "id": "269c66f8",
   "metadata": {},
   "outputs": [
    {
     "name": "stdout",
     "output_type": "stream",
     "text": [
      "CPU times: user 8.87 s, sys: 45.7 ms, total: 8.91 s\n",
      "Wall time: 8.92 s\n"
     ]
    }
   ],
   "source": [
    "%%time\n",
    "lightcurves, labels, oids = [], [], []\n",
    "for index, row in meta_df.iterrows():\n",
    "    file = row['Path'].split('/')[-1]\n",
    "    lc_path = os.path.join(lcs_src, file)\n",
    "    lc = pd.read_csv(lc_path)\n",
    "    \n",
    "    #Filter\n",
    "    lc = lc.sort_values('mjd')\n",
    "    lc = lc.drop_duplicates(keep='first')\n",
    "    lc = lc[lc['errmag'] < 1]\n",
    "    \n",
    "    if lc.shape[0] >= 20:\n",
    "        mean = np.mean(lc.values, 0)\n",
    "        std = np.std(lc.values, 0)\n",
    "        inp_matrix = (lc.values - mean)/std\n",
    "        lightcurves.append(inp_matrix)\n",
    "        oids.append(row['ids'])\n",
    "        labels.append(class_names.index(row['Class']))"
   ]
  },
  {
   "cell_type": "code",
   "execution_count": 16,
   "id": "41b00ccb",
   "metadata": {},
   "outputs": [],
   "source": [
    "lightcurves = np.array(lightcurves)\n",
    "oids = np.array(oids)\n",
    "labels = np.array(labels)"
   ]
  },
  {
   "cell_type": "code",
   "execution_count": 17,
   "id": "6731cf44",
   "metadata": {},
   "outputs": [
    {
     "data": {
      "image/png": "[encoded data removed]",
      "text/plain": [
       "<Figure size 720x216 with 1 Axes>"
      ]
     },
     "metadata": {
      "needs_background": "light"
     },
     "output_type": "display_data"
    }
   ],
   "source": [
    "uniques, counts = np.unique(labels, return_counts=True)\n",
    "\n",
    "LABELS = [class_names[u] for u in uniques]\n",
    "plt.figure(figsize=(10,3))\n",
    "plt.bar(uniques, counts, align='center', color='darkblue')\n",
    "\n",
    "for u, c in zip(uniques, counts):\n",
    "    plt.text(u-0.1, c+100, '{}'.format(c), fontsize=12)\n",
    "\n",
    "plt.xticks(uniques, LABELS, rotation=90, fontsize=12)\n",
    "plt.yticks(fontsize=12)\n",
    "plt.title('Number of Samples per Class', fontsize=15)\n",
    "plt.grid(axis='y')\n",
    "plt.ylim(0, max(counts)+max(counts)/3)\n",
    "plt.show()"
   ]
  },
  {
   "cell_type": "code",
   "execution_count": 18,
   "id": "ceacde8f",
   "metadata": {},
   "outputs": [
    {
     "data": {
      "text/html": [
       "<div>\n",
       "<style scoped>\n",
       "    .dataframe tbody tr th:only-of-type {\n",
       "        vertical-align: middle;\n",
       "    }\n",
       "\n",
       "    .dataframe tbody tr th {\n",
       "        vertical-align: top;\n",
       "    }\n",
       "\n",
       "    .dataframe thead th {\n",
       "        text-align: right;\n",
       "    }\n",
       "</style>\n",
       "<table border=\"1\" class=\"dataframe\">\n",
       "  <thead>\n",
       "    <tr style=\"text-align: right;\">\n",
       "      <th></th>\n",
       "      <th>index</th>\n",
       "      <th>label</th>\n",
       "      <th>oid</th>\n",
       "    </tr>\n",
       "  </thead>\n",
       "  <tbody>\n",
       "    <tr>\n",
       "      <th>0</th>\n",
       "      <td>0</td>\n",
       "      <td>0</td>\n",
       "      <td>0</td>\n",
       "    </tr>\n",
       "    <tr>\n",
       "      <th>1</th>\n",
       "      <td>1</td>\n",
       "      <td>0</td>\n",
       "      <td>1</td>\n",
       "    </tr>\n",
       "    <tr>\n",
       "      <th>2</th>\n",
       "      <td>2</td>\n",
       "      <td>0</td>\n",
       "      <td>2</td>\n",
       "    </tr>\n",
       "    <tr>\n",
       "      <th>3</th>\n",
       "      <td>3</td>\n",
       "      <td>0</td>\n",
       "      <td>3</td>\n",
       "    </tr>\n",
       "    <tr>\n",
       "      <th>4</th>\n",
       "      <td>4</td>\n",
       "      <td>0</td>\n",
       "      <td>4</td>\n",
       "    </tr>\n",
       "  </tbody>\n",
       "</table>\n",
       "</div>"
      ],
      "text/plain": [
       "   index  label  oid\n",
       "0      0      0    0\n",
       "1      1      0    1\n",
       "2      2      0    2\n",
       "3      3      0    3\n",
       "4      4      0    4"
      ]
     },
     "execution_count": 18,
     "metadata": {},
     "output_type": "execute_result"
    }
   ],
   "source": [
    "import pandas as pd\n",
    "partial = pd.DataFrame(np.vstack([range(len(oids)), labels, oids]).T, \n",
    "                       columns = ['index', 'label', 'oid'])\n",
    "partial.head()"
   ]
  },
  {
   "cell_type": "code",
   "execution_count": 19,
   "id": "a9fc5178",
   "metadata": {},
   "outputs": [
    {
     "name": "stdout",
     "output_type": "stream",
     "text": [
      "train: (1047, 3)\n",
      "val: (522, 3)\n",
      "test:(529, 3)\n"
     ]
    },
    {
     "name": "stderr",
     "output_type": "stream",
     "text": [
      "/home/ubuntu/miniconda3/envs/tf2/lib/python3.7/site-packages/ipykernel_launcher.py:24: FutureWarning: In a future version of pandas all arguments of concat except for the argument 'objs' will be keyword-only\n",
      "/home/ubuntu/miniconda3/envs/tf2/lib/python3.7/site-packages/ipykernel_launcher.py:25: FutureWarning: In a future version of pandas all arguments of concat except for the argument 'objs' will be keyword-only\n",
      "/home/ubuntu/miniconda3/envs/tf2/lib/python3.7/site-packages/ipykernel_launcher.py:26: FutureWarning: In a future version of pandas all arguments of concat except for the argument 'objs' will be keyword-only\n"
     ]
    }
   ],
   "source": [
    "label_groups = partial.groupby('label')\n",
    "train_frac = 0.5\n",
    "val_frac = 0.25 # 0.25 for testing\n",
    "\n",
    "\n",
    "train_df = []\n",
    "val_df   = []\n",
    "test_df  = []\n",
    "for lab, subframe in label_groups:\n",
    "    # Shuffle\n",
    "    subframe = subframe.sample(frac=1)\n",
    "    \n",
    "    n_train = int(subframe.shape[0] * train_frac)\n",
    "    n_val = int(subframe.shape[0] * val_frac)\n",
    "    \n",
    "    train_frame = subframe.iloc[:n_train, :]\n",
    "    val_frame   = subframe.iloc[n_train:n_train+n_val, :]\n",
    "    test_frame  = subframe.iloc[n_train+n_val:, :]\n",
    "    \n",
    "    train_df.append(train_frame)\n",
    "    val_df.append(val_frame)\n",
    "    test_df.append(test_frame)\n",
    "\n",
    "train_df = pd.concat(train_df, 0)\n",
    "val_df   = pd.concat(val_df, 0)\n",
    "test_df  = pd.concat(test_df, 0)\n",
    "\n",
    "print('train: {}\\nval: {}\\ntest:{}'.format(train_df.shape, val_df.shape, test_df.shape))"
   ]
  },
  {
   "cell_type": "code",
   "execution_count": 20,
   "id": "022cc700",
   "metadata": {},
   "outputs": [],
   "source": [
    "subsets = {'train':dict(), 'validation':dict(), 'test':dict()}\n",
    "subsets['train']['x'] = lightcurves[train_df.index.values]\n",
    "subsets['train']['y'] = labels[train_df.index.values]\n",
    "subsets['train']['oid'] = oids[train_df.index.values]\n",
    "\n",
    "subsets['validation']['x'] = lightcurves[val_df.index.values]\n",
    "subsets['validation']['y'] = labels[val_df.index.values]\n",
    "subsets['validation']['oid'] = oids[val_df.index.values]\n",
    "\n",
    "subsets['test']['x'] = lightcurves[test_df.index.values]\n",
    "subsets['test']['y'] = labels[test_df.index.values]\n",
    "subsets['test']['oid'] = oids[test_df.index.values]"
   ]
  },
  {
   "cell_type": "code",
   "execution_count": 21,
   "id": "3fa49652",
   "metadata": {},
   "outputs": [
    {
     "name": "stdout",
     "output_type": "stream",
     "text": [
      "The autoreload extension is already loaded. To reload it, use:\n",
      "  %reload_ext autoreload\n"
     ]
    }
   ],
   "source": [
    "from ztf import pad_lightcurves\n",
    "%load_ext autoreload\n",
    "%autoreload 2"
   ]
  },
  {
   "cell_type": "code",
   "execution_count": 22,
   "id": "710d3dd4",
   "metadata": {},
   "outputs": [
    {
     "name": "stdout",
     "output_type": "stream",
     "text": [
      "CPU times: user 280 ms, sys: 28.5 ms, total: 308 ms\n",
      "Wall time: 308 ms\n"
     ]
    }
   ],
   "source": [
    "%%time\n",
    "X_train, y_train, m_train, o_train = pad_lightcurves(subsets['train']['x'], \n",
    "                                                     subsets['train']['y'], \n",
    "                                                     subsets['train']['oid'],\n",
    "                                                     maxobs=200)\n",
    "X_valid, y_valid, m_valid, o_valid = pad_lightcurves(subsets['validation']['x'], \n",
    "                                                     subsets['validation']['y'], \n",
    "                                                     subsets['validation']['oid'],\n",
    "                                                     maxobs=200)"
   ]
  },
  {
   "cell_type": "code",
   "execution_count": 23,
   "id": "562f8357",
   "metadata": {},
   "outputs": [
    {
     "name": "stdout",
     "output_type": "stream",
     "text": [
      "CPU times: user 74.7 ms, sys: 16.2 ms, total: 90.9 ms\n",
      "Wall time: 90.2 ms\n"
     ]
    }
   ],
   "source": [
    "%%time\n",
    "maxobs_testing = np.max([x.shape[0] for x in subsets['test']['x']])\n",
    "X_test, y_test, m_test, o_test = pad_lightcurves(subsets['test']['x'], \n",
    "                                                 subsets['test']['y'],\n",
    "                                                 subsets['test']['oid'],\n",
    "                                                 maxobs=maxobs_testing)"
   ]
  },
  {
   "cell_type": "code",
   "execution_count": 24,
   "id": "00bea1dd",
   "metadata": {},
   "outputs": [
    {
     "name": "stdout",
     "output_type": "stream",
     "text": [
      "TRAIN: (5628, 200, 3)  - (5628,)\n",
      "VALID: (2837, 200, 3)  - (2837,)\n",
      "TEST:  (529, 1807, 3) - (529,)\n"
     ]
    }
   ],
   "source": [
    "print('TRAIN: {}  - {}\\nVALID: {}  - {}\\nTEST:  {} - {}'.format(X_train.shape, y_train.shape,\n",
    "                                                          X_valid.shape, y_valid.shape,\n",
    "                                                          X_test.shape, y_test.shape))"
   ]
  },
  {
   "cell_type": "code",
   "execution_count": 25,
   "id": "521b0d1d",
   "metadata": {},
   "outputs": [
    {
     "data": {
      "text/plain": [
       "array([0, 1, 2, 3, 4, 5, 6])"
      ]
     },
     "execution_count": 25,
     "metadata": {},
     "output_type": "execute_result"
    }
   ],
   "source": [
    "uniques"
   ]
  },
  {
   "cell_type": "code",
   "execution_count": 26,
   "id": "3fed2427",
   "metadata": {},
   "outputs": [
    {
     "data": {
      "image/png": "[encoded data removed]",
      "text/plain": [
       "<Figure size 720x288 with 3 Axes>"
      ]
     },
     "metadata": {
      "needs_background": "light"
     },
     "output_type": "display_data"
    }
   ],
   "source": [
    "fig, axes = plt.subplots(1, 3, figsize=(10,4),sharey=True, \n",
    "                        gridspec_kw={'hspace': 0., 'wspace': 0.05},)\n",
    "\n",
    "for i, (labs, name) in enumerate(zip([y_train, y_valid, y_test], ['train', 'val', 'test'])):\n",
    "    \n",
    "    uniques, counts = np.unique(labs, return_counts=True)\n",
    "\n",
    "    LABELS = [class_names[u] for u in uniques]\n",
    "\n",
    "    axes[i].barh(uniques, counts, align='center', color='darkblue')\n",
    "\n",
    "    for u, c in zip(uniques, counts):\n",
    "        axes[i].text(c+c/5, u-0.2, '{}'.format(c), fontsize=12)\n",
    "    \n",
    "    x_ticks = range(len(uniques))\n",
    "    axes[i].set_yticks(x_ticks)\n",
    "    axes[i].set_yticklabels(LABELS)\n",
    "\n",
    "    axes[i].set_title('{}set distribution'.format(name), fontsize=15)\n",
    "    axes[i].set_xticks([])\n",
    "    axes[i].set_xlim(0, max(counts)+100)\n",
    "    \n",
    "plt.show()"
   ]
  },
  {
   "cell_type": "markdown",
   "id": "0d27eb4f",
   "metadata": {},
   "source": [
    "### Writting Records"
   ]
  },
  {
   "cell_type": "code",
   "execution_count": 27,
   "id": "391290fb",
   "metadata": {},
   "outputs": [
    {
     "name": "stdout",
     "output_type": "stream",
     "text": [
      "The autoreload extension is already loaded. To reload it, use:\n",
      "  %reload_ext autoreload\n"
     ]
    }
   ],
   "source": [
    "from data import create_record\n",
    "\n",
    "%load_ext autoreload\n",
    "%autoreload 2"
   ]
  },
  {
   "cell_type": "code",
   "execution_count": 28,
   "id": "d0d7f2f9",
   "metadata": {},
   "outputs": [],
   "source": [
    "create_record(light_curves=X_train, \n",
    "              labels=y_train, \n",
    "              masks=m_train, \n",
    "              oids=o_train, \n",
    "              path='./data/records/macho/train')"
   ]
  },
  {
   "cell_type": "code",
   "execution_count": 29,
   "id": "cdaedcab",
   "metadata": {},
   "outputs": [],
   "source": [
    "create_record(light_curves=X_valid, \n",
    "              labels=y_valid, \n",
    "              masks=m_valid, \n",
    "              oids=o_valid, \n",
    "              path='./data/records/macho/val')"
   ]
  },
  {
   "cell_type": "code",
   "execution_count": 30,
   "id": "2414b6b3",
   "metadata": {},
   "outputs": [],
   "source": [
    "create_record(light_curves=X_test, \n",
    "              labels=y_test, \n",
    "              masks=m_test, \n",
    "              oids=o_test, \n",
    "              path='./data/records/macho/test')"
   ]
  },
  {
   "cell_type": "markdown",
   "id": "49068db2",
   "metadata": {},
   "source": [
    "### Reading Records"
   ]
  },
  {
   "cell_type": "code",
   "execution_count": 31,
   "id": "e5c94f01",
   "metadata": {},
   "outputs": [
    {
     "name": "stdout",
     "output_type": "stream",
     "text": [
      "The autoreload extension is already loaded. To reload it, use:\n",
      "  %reload_ext autoreload\n"
     ]
    }
   ],
   "source": [
    "from data import load_record\n",
    "import os\n",
    "\n",
    "os.environ['TF_CPP_MIN_LOG_LEVEL'] = '3' \n",
    "%load_ext autoreload\n",
    "%autoreload 2"
   ]
  },
  {
   "cell_type": "code",
   "execution_count": 34,
   "id": "dec2a5dc",
   "metadata": {
    "scrolled": true
   },
   "outputs": [
    {
     "name": "stdout",
     "output_type": "stream",
     "text": [
      "[INFO] Taking 1 balanced batches\n"
     ]
    }
   ],
   "source": [
    "dataset = load_record('./data/records/macho/train', batch_size=32, take=1)"
   ]
  },
  {
   "cell_type": "code",
   "execution_count": 35,
   "id": "5bbc6a93",
   "metadata": {},
   "outputs": [
    {
     "data": {
      "image/png": "[encoded data removed]",
      "text/plain": [
       "<Figure size 432x288 with 1 Axes>"
      ]
     },
     "metadata": {
      "needs_background": "light"
     },
     "output_type": "display_data"
    }
   ],
   "source": [
    "for x, y, m in dataset:    \n",
    "    y_int = np.argmax(y, 1)\n",
    "    unique, counts = np.unique(y_int, return_counts=True)\n",
    "    x_range = range(len(unique))\n",
    "    plt.bar(x_range, counts)\n",
    "    plt.xticks(x_range, unique)\n",
    "    break"
   ]
  },
  {
   "cell_type": "code",
   "execution_count": null,
   "id": "5ad60985",
   "metadata": {},
   "outputs": [],
   "source": []
  }
 ],
 "metadata": {
  "kernelspec": {
   "display_name": "Python 3 (ipykernel)",
   "language": "python",
   "name": "python3"
  },
  "language_info": {
   "codemirror_mode": {
    "name": "ipython",
    "version": 3
   },
   "file_extension": ".py",
   "mimetype": "text/x-python",
   "name": "python",
   "nbconvert_exporter": "python",
   "pygments_lexer": "ipython3",
   "version": "3.7.10"
  }
 },
 "nbformat": 4,
 "nbformat_minor": 5
}
