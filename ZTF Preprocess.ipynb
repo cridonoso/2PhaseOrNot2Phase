{
 "cells": [
  {
   "cell_type": "markdown",
   "metadata": {},
   "source": [
    "# Data Review and Preprocessing"
   ]
  },
  {
   "cell_type": "code",
   "execution_count": 29,
   "metadata": {},
   "outputs": [
    {
     "name": "stdout",
     "output_type": "stream",
     "text": [
      "The autoreload extension is already loaded. To reload it, use:\n",
      "  %reload_ext autoreload\n"
     ]
    }
   ],
   "source": [
    "import numpy as np\n",
    "import pandas as pd\n",
    "import matplotlib.pyplot as plt\n",
    "from data import create_record\n",
    "import ztf # shared scritp where the util functions are stored\n",
    "\n",
    "%load_ext autoreload\n",
    "%autoreload 2"
   ]
  },
  {
   "cell_type": "markdown",
   "metadata": {},
   "source": [
    "## Defining taxonomy"
   ]
  },
  {
   "cell_type": "code",
   "execution_count": 30,
   "metadata": {},
   "outputs": [],
   "source": [
    "transient  = ['SNIa', 'nonSNIa']#['SNIa', 'SNIbc', 'SNII', 'SNIIn', 'SNIIb', 'SLSN', 'TDE']\n",
    "stochastic = ['QSO', 'AGN', 'Blazar', 'CVNova', 'YSO']\n",
    "periodic   = ['LPV', 'RSCVn', 'Ceph', 'EA', 'EBEW', 'RRLc', 'RRLab', 'DSCT', 'Periodic-Other']"
   ]
  },
  {
   "cell_type": "code",
   "execution_count": 31,
   "metadata": {},
   "outputs": [],
   "source": [
    "class_code = transient+stochastic+periodic"
   ]
  },
  {
   "cell_type": "markdown",
   "metadata": {},
   "source": [
    "### Getting lightcurves "
   ]
  },
  {
   "cell_type": "code",
   "execution_count": 32,
   "metadata": {},
   "outputs": [],
   "source": [
    "path_meta = './data/raw_data/ztf_forced/metadata.csv'\n",
    "path_dete = './data/raw_data/ztf_forced/detections.csv'"
   ]
  },
  {
   "cell_type": "code",
   "execution_count": 33,
   "metadata": {},
   "outputs": [
    {
     "name": "stdout",
     "output_type": "stream",
     "text": [
      "CPU times: user 8.33 s, sys: 520 ms, total: 8.85 s\n",
      "Wall time: 8.85 s\n"
     ]
    }
   ],
   "source": [
    "%%time\n",
    "detections = pd.read_csv(path_dete)\n",
    "metadata   = pd.read_csv(path_meta)"
   ]
  },
  {
   "cell_type": "code",
   "execution_count": 34,
   "metadata": {},
   "outputs": [
    {
     "data": {
      "text/plain": [
       "2    6455579\n",
       "1    4826663\n",
       "3     236197\n",
       "Name: fid, dtype: int64"
      ]
     },
     "execution_count": 34,
     "metadata": {},
     "output_type": "execute_result"
    }
   ],
   "source": [
    "detections['fid'].value_counts()"
   ]
  },
  {
   "cell_type": "code",
   "execution_count": 35,
   "metadata": {},
   "outputs": [],
   "source": [
    "detections = detections[detections['fid'] == 1] # single filter only\n",
    "detections = detections[['oid', 'mjd', 'forcediffimflux', 'forcediffimfluxunc', 'forcediffimsnr']]"
   ]
  },
  {
   "cell_type": "markdown",
   "metadata": {},
   "source": [
    "### Train val test 5-fold split"
   ]
  },
  {
   "cell_type": "code",
   "execution_count": 36,
   "metadata": {},
   "outputs": [
    {
     "name": "stdout",
     "output_type": "stream",
     "text": [
      "[INFO] Processing forced_0\n"
     ]
    },
    {
     "name": "stderr",
     "output_type": "stream",
     "text": [
      "/home/cridonoso/Documents/2PhaseOrNot2Phase/ztf.py:38: VisibleDeprecationWarning: Creating an ndarray from ragged nested sequences (which is a list-or-tuple of lists-or-tuples-or ndarrays with different lengths or shapes) is deprecated. If you meant to do this, you must specify 'dtype=object' when creating the ndarray\n",
      "  return np.array(light_curves), np.array(labels), np.array(oids)\n"
     ]
    },
    {
     "name": "stdout",
     "output_type": "stream",
     "text": [
      "TRAIN: (26862, 200, 4)  - (26862,)\n",
      "VALID: (2916, 200, 4)  - (2916,)\n",
      "TEST:  (1593, 992, 4) - (1593,)\n",
      "[INFO] Processing forced_1\n",
      "TRAIN: (26901, 200, 4)  - (26901,)\n",
      "VALID: (2877, 200, 4)  - (2877,)\n",
      "TEST:  (1593, 992, 4) - (1593,)\n",
      "[INFO] Processing forced_2\n",
      "TRAIN: (26857, 200, 4)  - (26857,)\n",
      "VALID: (2921, 200, 4)  - (2921,)\n",
      "TEST:  (1593, 992, 4) - (1593,)\n",
      "[INFO] Processing forced_3\n",
      "TRAIN: (26814, 200, 4)  - (26814,)\n",
      "VALID: (2964, 200, 4)  - (2964,)\n",
      "TEST:  (1593, 992, 4) - (1593,)\n",
      "[INFO] Processing forced_4\n",
      "TRAIN: (26773, 200, 4)  - (26773,)\n",
      "VALID: (3005, 200, 4)  - (3005,)\n",
      "TEST:  (1593, 992, 4) - (1593,)\n"
     ]
    }
   ],
   "source": [
    "name = 'forced'\n",
    "for fold_n in range(5):\n",
    "    dataset_name = '{}_{}'.format(name, fold_n)\n",
    "    print('[INFO] Processing {}'.format(dataset_name))\n",
    "    train_df = metadata[metadata['partition'] == 'training_{}'.format(fold_n)]\n",
    "    val_df   = metadata[metadata['partition'] == 'validation_{}'.format(fold_n)]\n",
    "    test_df  = metadata[metadata['partition'] == 'test']\n",
    "    \n",
    "    result = pd.merge(detections,\n",
    "                  test_df[['oid', 'alerceclass', 'partition']],\n",
    "                  on='oid')\n",
    "    \n",
    "    x_train, y_train, id_train = ztf.get_light_curves(train_df, detections, class_code, n_min=10)\n",
    "    x_val, y_val, id_val = ztf.get_light_curves(val_df, detections, class_code, n_min=10)\n",
    "    x_test, y_test, id_test = ztf.get_light_curves(test_df, detections, class_code, n_min=0)\\\n",
    "    \n",
    "    subsets = {'train':dict(), 'validation':dict(), 'test':dict()}\n",
    "    subsets['train']['x'] = x_train\n",
    "    subsets['train']['y'] = y_train\n",
    "    subsets['train']['oid'] = id_train\n",
    "\n",
    "    subsets['validation']['x'] = x_val\n",
    "    subsets['validation']['y'] = y_val\n",
    "    subsets['validation']['oid'] = id_val\n",
    "\n",
    "    subsets['test']['x'] = x_test\n",
    "    subsets['test']['y'] = y_test\n",
    "    subsets['test']['oid'] = id_test\n",
    "    \n",
    "    X_train, y_train, m_train, o_train = ztf.pad_lightcurves(subsets['train']['x'], \n",
    "                                                             subsets['train']['y'], \n",
    "                                                             subsets['train']['oid'],\n",
    "                                                             maxobs=200)\n",
    "    X_valid, y_valid, m_valid, o_valid = ztf.pad_lightcurves(subsets['validation']['x'], \n",
    "                                                             subsets['validation']['y'], \n",
    "                                                             subsets['validation']['oid'],\n",
    "                                                             maxobs=200)\n",
    "    maxobs_testing = np.max([x.shape[0] for x in subsets['test']['x']])\n",
    "    X_test, y_test, m_test, o_test = ztf.pad_lightcurves(subsets['test']['x'], \n",
    "                                                 subsets['test']['y'],\n",
    "                                                 subsets['test']['oid'],\n",
    "                                                 maxobs=maxobs_testing)\n",
    "\n",
    "    create_record(light_curves=X_train, \n",
    "              labels=y_train, \n",
    "              masks=m_train, \n",
    "              oids=o_train, \n",
    "              path='./data/records/{}/train'.format(dataset_name))\n",
    "    create_record(light_curves=X_valid, \n",
    "                  labels=y_valid, \n",
    "                  masks=m_valid, \n",
    "                  oids=o_valid, \n",
    "                  path='./data/records/{}/val'.format(dataset_name))\n",
    "    create_record(light_curves=X_test, \n",
    "                  labels=y_test, \n",
    "                  masks=m_test, \n",
    "                  oids=o_test, \n",
    "                  path='./data/records/{}/test'.format(dataset_name))\n",
    "\n",
    "    print('TRAIN: {}  - {}\\nVALID: {}  - {}\\nTEST:  {} - {}'.format(X_train.shape, y_train.shape,\n",
    "                                                              X_valid.shape, y_valid.shape,\n",
    "                                                              X_test.shape, y_test.shape))"
   ]
  },
  {
   "cell_type": "code",
   "execution_count": null,
   "metadata": {},
   "outputs": [],
   "source": []
  },
  {
   "cell_type": "code",
   "execution_count": 26,
   "metadata": {},
   "outputs": [],
   "source": [
    "# fig, axes = plt.subplots(1, 3, dpi=200, figsize=(10,5),sharey=True, \n",
    "#                         gridspec_kw={'hspace': 0., 'wspace': 0.05},)\n",
    "\n",
    "# for i, (labs, name) in enumerate(zip([y_train, y_valid, y_test], ['train', 'val', 'test'])):\n",
    "    \n",
    "#     uniques, counts = np.unique(labs, return_counts=True)\n",
    "\n",
    "#     LABELS = [class_code[u] for u in uniques]\n",
    "\n",
    "#     axes[i].barh(uniques, counts, align='center', color='darkblue')\n",
    "\n",
    "#     for u, c in zip(uniques, counts):\n",
    "#         axes[i].text(c+1000, u-0.2, '{}'.format(c), fontsize=12)\n",
    "    \n",
    "#     x_ticks = range(len(uniques))\n",
    "#     axes[i].set_yticks(x_ticks)\n",
    "#     axes[i].set_yticklabels(LABELS)\n",
    "\n",
    "#     axes[i].set_title('{}set distribution'.format(name), fontsize=15)\n",
    "#     axes[i].set_xticks([])\n",
    "#     axes[i].set_xlim(0, 30000)\n",
    "    \n",
    "# plt.show()"
   ]
  },
  {
   "cell_type": "code",
   "execution_count": 22,
   "metadata": {},
   "outputs": [],
   "source": []
  },
  {
   "cell_type": "markdown",
   "metadata": {},
   "source": [
    "# Reading records"
   ]
  },
  {
   "cell_type": "code",
   "execution_count": 37,
   "metadata": {},
   "outputs": [
    {
     "name": "stdout",
     "output_type": "stream",
     "text": [
      "The autoreload extension is already loaded. To reload it, use:\n",
      "  %reload_ext autoreload\n"
     ]
    }
   ],
   "source": [
    "from data import load_record\n",
    "%load_ext autoreload\n",
    "%autoreload 2"
   ]
  },
  {
   "cell_type": "code",
   "execution_count": 38,
   "metadata": {},
   "outputs": [
    {
     "name": "stdout",
     "output_type": "stream",
     "text": [
      "[INFO] Taking 1 balanced batches\n"
     ]
    }
   ],
   "source": [
    "dataset = load_record('./data/records/forced_0/train', batch_size=32, take=1)"
   ]
  },
  {
   "cell_type": "code",
   "execution_count": 39,
   "metadata": {},
   "outputs": [
    {
     "data": {
      "image/png": "[encoded data removed]",
      "text/plain": [
       "<Figure size 432x288 with 1 Axes>"
      ]
     },
     "metadata": {
      "needs_background": "light"
     },
     "output_type": "display_data"
    }
   ],
   "source": [
    "for x, y, m in dataset:    \n",
    "    y_int = np.argmax(y, 1)\n",
    "    unique, counts = np.unique(y_int, return_counts=True)\n",
    "    x_range = range(len(unique))\n",
    "    plt.bar(x_range, counts)\n",
    "    plt.xticks(x_range, unique)\n",
    "    break"
   ]
  },
  {
   "cell_type": "code",
   "execution_count": null,
   "metadata": {},
   "outputs": [],
   "source": []
  }
 ],
 "metadata": {
  "kernelspec": {
   "display_name": "Python 3",
   "language": "python",
   "name": "python3"
  },
  "language_info": {
   "codemirror_mode": {
    "name": "ipython",
    "version": 3
   },
   "file_extension": ".py",
   "mimetype": "text/x-python",
   "name": "python",
   "nbconvert_exporter": "python",
   "pygments_lexer": "ipython3",
   "version": "3.8.8"
  }
 },
 "nbformat": 4,
 "nbformat_minor": 4
}
