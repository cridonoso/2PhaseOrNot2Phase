{
 "cells": [
  {
   "cell_type": "code",
   "execution_count": 21,
   "metadata": {},
   "outputs": [],
   "source": [
    "import tensorflow as tf \n",
    "from classifiers import PhasedClassifier, LSTMClassifier\n",
    "import data\n",
    "from sklearn.metrics import balanced_accuracy_score, accuracy_score, f1_score\n",
    "import numpy as np"
   ]
  },
  {
   "cell_type": "code",
   "execution_count": 22,
   "metadata": {},
   "outputs": [],
   "source": [
    "dataset = 'wise'\n",
    "fold_n  = 1\n",
    "rnn_unit = 'phased'\n",
    "units = 256"
   ]
  },
  {
   "cell_type": "code",
   "execution_count": 23,
   "metadata": {},
   "outputs": [],
   "source": [
    "path_exp = './experiments/{}/fold_{}/{}_{}/'.format(dataset, fold_n, rnn_unit, units)\n",
    "path_data = '../datasets/records/{}/fold_{}/test.tfrecords'.format(dataset, fold_n)\n",
    "path_ckpts = '{}/{}'.format(path_exp, 'ckpts/')"
   ]
  },
  {
   "cell_type": "code",
   "execution_count": 24,
   "metadata": {},
   "outputs": [],
   "source": [
    "test_batches = data.load_record(path=path_data, batch_size=5000)\n",
    "n_classes = [len(b[1][0]) for b in test_batches.take(1)][0]"
   ]
  },
  {
   "cell_type": "code",
   "execution_count": 25,
   "metadata": {},
   "outputs": [],
   "source": [
    "if rnn_unit == 'phased':\n",
    "    model = PhasedClassifier(units=units, \n",
    "                             n_classes=n_classes,\n",
    "                             use_old=False)\n",
    "else:\n",
    "    model = LSTMClassifier(units=units, \n",
    "                           n_classes=n_classes)"
   ]
  },
  {
   "cell_type": "code",
   "execution_count": 26,
   "metadata": {},
   "outputs": [
    {
     "data": {
      "text/plain": [
       "<classifiers.PhasedClassifier at 0x7fa5a2f8ae50>"
      ]
     },
     "execution_count": 26,
     "metadata": {},
     "output_type": "execute_result"
    }
   ],
   "source": [
    "model"
   ]
  },
  {
   "cell_type": "code",
   "execution_count": 27,
   "metadata": {},
   "outputs": [
    {
     "name": "stdout",
     "output_type": "stream",
     "text": [
      "RNN Restored!\n"
     ]
    }
   ],
   "source": [
    "model.load_ckpt(path_ckpts)"
   ]
  },
  {
   "cell_type": "code",
   "execution_count": 28,
   "metadata": {},
   "outputs": [],
   "source": [
    "def fix_pred(y_pred, test_batches):\n",
    "    masks = []\n",
    "    for t in test_batches:\n",
    "        masks.append(t[2])\n",
    "    masks = tf.concat(masks, 0)\n",
    "    valid_mask = tf.cast(tf.reduce_sum(masks, 1), dtype=tf.bool)\n",
    "    y_pred = tf.boolean_mask(y_pred, valid_mask)\n",
    "    return y_pred"
   ]
  },
  {
   "cell_type": "code",
   "execution_count": 29,
   "metadata": {
    "scrolled": true
   },
   "outputs": [
    {
     "name": "stdout",
     "output_type": "stream",
     "text": [
      "runtime 179.89\n"
     ]
    }
   ],
   "source": [
    "y_pred, y_true, loss_test = model.predict_proba(test_batches)"
   ]
  },
  {
   "cell_type": "code",
   "execution_count": 30,
   "metadata": {},
   "outputs": [],
   "source": [
    "y_last_pred = y_pred[:,-1,:]"
   ]
  },
  {
   "cell_type": "code",
   "execution_count": 31,
   "metadata": {},
   "outputs": [
    {
     "name": "stdout",
     "output_type": "stream",
     "text": [
      "(30538, 9)\n",
      "(30537, 9)\n"
     ]
    }
   ],
   "source": [
    "print(y_true.shape)\n",
    "y_true_fixed = fix_pred(y_true, test_batches)\n",
    "print(y_true_fixed.shape)"
   ]
  },
  {
   "cell_type": "code",
   "execution_count": null,
   "metadata": {},
   "outputs": [],
   "source": []
  },
  {
   "cell_type": "code",
   "execution_count": 40,
   "metadata": {},
   "outputs": [],
   "source": [
    "labels_pred = np.argmax(y_last_pred.numpy()[:20], 1)\n",
    "labels_true = np.argmax(y_true_fixed.numpy()[:20], 1)"
   ]
  },
  {
   "cell_type": "code",
   "execution_count": 41,
   "metadata": {},
   "outputs": [
    {
     "data": {
      "text/plain": [
       "0.15"
      ]
     },
     "execution_count": 41,
     "metadata": {},
     "output_type": "execute_result"
    }
   ],
   "source": [
    "accuracy_score(labels_true, labels_pred)"
   ]
  },
  {
   "cell_type": "code",
   "execution_count": 34,
   "metadata": {},
   "outputs": [
    {
     "data": {
      "text/plain": [
       "0.03029615115974417"
      ]
     },
     "execution_count": 34,
     "metadata": {},
     "output_type": "execute_result"
    }
   ],
   "source": [
    "f1_score(labels_true, labels_pred, average='macro')"
   ]
  },
  {
   "cell_type": "code",
   "execution_count": null,
   "metadata": {},
   "outputs": [],
   "source": []
  }
 ],
 "metadata": {
  "kernelspec": {
   "display_name": "Python 3",
   "language": "python",
   "name": "python3"
  },
  "language_info": {
   "codemirror_mode": {
    "name": "ipython",
    "version": 3
   },
   "file_extension": ".py",
   "mimetype": "text/x-python",
   "name": "python",
   "nbconvert_exporter": "python",
   "pygments_lexer": "ipython3",
   "version": "3.7.7"
  }
 },
 "nbformat": 4,
 "nbformat_minor": 4
}
